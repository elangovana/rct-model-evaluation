{
 "cells": [
  {
   "cell_type": "code",
   "execution_count": 1,
   "metadata": {},
   "outputs": [],
   "source": [
    "s3_test_contrast = \"s3://aegovan-data/rct_datasets/raw/test_contrast.tsv\"\n",
    "s3_test_original = \"s3://aegovan-data/rct_datasets/raw/test_original.tsv\""
   ]
  },
  {
   "cell_type": "code",
   "execution_count": 2,
   "metadata": {},
   "outputs": [],
   "source": [
    "import sys, os, pandas as pd\n",
    "sys.path.append(\"../src\")"
   ]
  },
  {
   "cell_type": "code",
   "execution_count": 3,
   "metadata": {},
   "outputs": [],
   "source": [
    "local_temp =\"./temp\""
   ]
  },
  {
   "cell_type": "code",
   "execution_count": 5,
   "metadata": {
    "pycharm": {
     "name": "#%%\n"
    }
   },
   "outputs": [],
   "source": [
    "from utils.s3_utils import download_file as download_s3_file\n",
    "from utils.s3_utils import download_file as download_s3_file\n",
    "\n",
    "\n",
    "\n",
    "local_dataset_dir = os.path.join(local_temp, \"datasets\")\n",
    "os.makedirs(local_dataset_dir, exist_ok=True)\n"
   ]
  },
  {
   "cell_type": "code",
   "execution_count": 6,
   "metadata": {},
   "outputs": [
    {
     "name": "stderr",
     "output_type": "stream",
     "text": [
      "/Users/aparnaelangovan/PycharmProjects/venv/rct-model-evaluation/lib/python3.7/site-packages/boto3/compat.py:82: PythonDeprecationWarning: Boto3 will no longer support Python 3.7 starting December 13, 2023. To continue receiving service updates, bug fixes, and security updates please upgrade to Python 3.8 or later. More information can be found here: https://aws.amazon.com/blogs/developer/python-support-policy-updates-for-aws-sdks-and-tools/\n",
      "  warnings.warn(warning, PythonDeprecationWarning)\n"
     ]
    }
   ],
   "source": [
    "from preprocess_rct_imdb import PreprocessRCTIMDB\n",
    "\n",
    "\n",
    "def create_rct_df( s3_test_original, s3_test_contrast, local_dataset_dir):\n",
    "    local_contrast_file  = download_s3_file( s3_test_contrast, local_dataset_dir)\n",
    "    local_original_file  = download_s3_file( s3_test_original, local_dataset_dir)\n",
    "    \n",
    "    df = PreprocessRCTIMDB().process(local_original_file, local_contrast_file)\n",
    "    \n",
    "    return df\n",
    "\n",
    "df = create_rct_df(s3_test_original, s3_test_contrast, local_dataset_dir)"
   ]
  },
  {
   "cell_type": "code",
   "execution_count": 7,
   "metadata": {},
   "outputs": [
    {
     "data": {
      "text/html": [
       "<div>\n",
       "<style scoped>\n",
       "    .dataframe tbody tr th:only-of-type {\n",
       "        vertical-align: middle;\n",
       "    }\n",
       "\n",
       "    .dataframe tbody tr th {\n",
       "        vertical-align: top;\n",
       "    }\n",
       "\n",
       "    .dataframe thead th {\n",
       "        text-align: right;\n",
       "    }\n",
       "</style>\n",
       "<table border=\"1\" class=\"dataframe\">\n",
       "  <thead>\n",
       "    <tr style=\"text-align: right;\">\n",
       "      <th></th>\n",
       "      <th>case_label</th>\n",
       "      <th>case_text</th>\n",
       "      <th>control_label</th>\n",
       "      <th>control_text</th>\n",
       "    </tr>\n",
       "  </thead>\n",
       "  <tbody>\n",
       "    <tr>\n",
       "      <th>0</th>\n",
       "      <td>Negative</td>\n",
       "      <td>A spoiler.&lt;br /&gt;&lt;br /&gt;What three words can gua...</td>\n",
       "      <td>Positive</td>\n",
       "      <td>A spoiler.&lt;br /&gt;&lt;br /&gt;What three words can gua...</td>\n",
       "    </tr>\n",
       "    <tr>\n",
       "      <th>1</th>\n",
       "      <td>Negative</td>\n",
       "      <td>The premise of this awaited sequel was really ...</td>\n",
       "      <td>Positive</td>\n",
       "      <td>The premise of this awaited sequel was really ...</td>\n",
       "    </tr>\n",
       "    <tr>\n",
       "      <th>2</th>\n",
       "      <td>Negative</td>\n",
       "      <td>The wonderful \"Z\" Channel in Los Angeles showe...</td>\n",
       "      <td>Positive</td>\n",
       "      <td>The wonderful \"Z\" Channel in Los Angeles showe...</td>\n",
       "    </tr>\n",
       "    <tr>\n",
       "      <th>3</th>\n",
       "      <td>Positive</td>\n",
       "      <td>Carl Brashear (Cuba Gooding, Jr.) was born to ...</td>\n",
       "      <td>Negative</td>\n",
       "      <td>Carl Brashear (Cuba Gooding, Jr.) was born to ...</td>\n",
       "    </tr>\n",
       "    <tr>\n",
       "      <th>4</th>\n",
       "      <td>Positive</td>\n",
       "      <td>This slick and gritty film consistently delive...</td>\n",
       "      <td>Negative</td>\n",
       "      <td>This slick and gritty film consistently fails ...</td>\n",
       "    </tr>\n",
       "  </tbody>\n",
       "</table>\n",
       "</div>"
      ],
      "text/plain": [
       "  case_label                                          case_text control_label  \\\n",
       "0   Negative  A spoiler.<br /><br />What three words can gua...      Positive   \n",
       "1   Negative  The premise of this awaited sequel was really ...      Positive   \n",
       "2   Negative  The wonderful \"Z\" Channel in Los Angeles showe...      Positive   \n",
       "3   Positive  Carl Brashear (Cuba Gooding, Jr.) was born to ...      Negative   \n",
       "4   Positive  This slick and gritty film consistently delive...      Negative   \n",
       "\n",
       "                                        control_text  \n",
       "0  A spoiler.<br /><br />What three words can gua...  \n",
       "1  The premise of this awaited sequel was really ...  \n",
       "2  The wonderful \"Z\" Channel in Los Angeles showe...  \n",
       "3  Carl Brashear (Cuba Gooding, Jr.) was born to ...  \n",
       "4  This slick and gritty film consistently fails ...  "
      ]
     },
     "execution_count": 7,
     "metadata": {},
     "output_type": "execute_result"
    }
   ],
   "source": [
    "df.head()"
   ]
  },
  {
   "cell_type": "code",
   "execution_count": 8,
   "metadata": {},
   "outputs": [
    {
     "data": {
      "text/html": [
       "<div>\n",
       "<style scoped>\n",
       "    .dataframe tbody tr th:only-of-type {\n",
       "        vertical-align: middle;\n",
       "    }\n",
       "\n",
       "    .dataframe tbody tr th {\n",
       "        vertical-align: top;\n",
       "    }\n",
       "\n",
       "    .dataframe thead th {\n",
       "        text-align: right;\n",
       "    }\n",
       "</style>\n",
       "<table border=\"1\" class=\"dataframe\">\n",
       "  <thead>\n",
       "    <tr style=\"text-align: right;\">\n",
       "      <th></th>\n",
       "      <th>case_label</th>\n",
       "      <th>case_text</th>\n",
       "      <th>control_label</th>\n",
       "      <th>control_text</th>\n",
       "    </tr>\n",
       "  </thead>\n",
       "  <tbody>\n",
       "    <tr>\n",
       "      <th>count</th>\n",
       "      <td>488</td>\n",
       "      <td>488</td>\n",
       "      <td>488</td>\n",
       "      <td>488</td>\n",
       "    </tr>\n",
       "    <tr>\n",
       "      <th>unique</th>\n",
       "      <td>2</td>\n",
       "      <td>488</td>\n",
       "      <td>2</td>\n",
       "      <td>488</td>\n",
       "    </tr>\n",
       "    <tr>\n",
       "      <th>top</th>\n",
       "      <td>Positive</td>\n",
       "      <td>A spoiler.&lt;br /&gt;&lt;br /&gt;What three words can gua...</td>\n",
       "      <td>Negative</td>\n",
       "      <td>A spoiler.&lt;br /&gt;&lt;br /&gt;What three words can gua...</td>\n",
       "    </tr>\n",
       "    <tr>\n",
       "      <th>freq</th>\n",
       "      <td>245</td>\n",
       "      <td>1</td>\n",
       "      <td>245</td>\n",
       "      <td>1</td>\n",
       "    </tr>\n",
       "  </tbody>\n",
       "</table>\n",
       "</div>"
      ],
      "text/plain": [
       "       case_label                                          case_text  \\\n",
       "count         488                                                488   \n",
       "unique          2                                                488   \n",
       "top      Positive  A spoiler.<br /><br />What three words can gua...   \n",
       "freq          245                                                  1   \n",
       "\n",
       "       control_label                                       control_text  \n",
       "count            488                                                488  \n",
       "unique             2                                                488  \n",
       "top         Negative  A spoiler.<br /><br />What three words can gua...  \n",
       "freq             245                                                  1  "
      ]
     },
     "execution_count": 8,
     "metadata": {},
     "output_type": "execute_result"
    }
   ],
   "source": [
    "df.describe()"
   ]
  },
  {
   "cell_type": "code",
   "execution_count": 9,
   "metadata": {},
   "outputs": [
    {
     "data": {
      "text/plain": [
       "Positive    245\n",
       "Negative    243\n",
       "Name: case_label, dtype: int64"
      ]
     },
     "execution_count": 9,
     "metadata": {},
     "output_type": "execute_result"
    }
   ],
   "source": [
    "df[\"case_label\"].value_counts()"
   ]
  },
  {
   "cell_type": "code",
   "execution_count": 10,
   "metadata": {},
   "outputs": [
    {
     "data": {
      "text/plain": [
       "Negative    245\n",
       "Positive    243\n",
       "Name: control_label, dtype: int64"
      ]
     },
     "execution_count": 10,
     "metadata": {},
     "output_type": "execute_result"
    }
   ],
   "source": [
    "df[\"control_label\"].value_counts()"
   ]
  }
 ],
 "metadata": {
  "kernelspec": {
   "display_name": "Python 3 (ipykernel)",
   "language": "python",
   "name": "python3"
  },
  "language_info": {
   "codemirror_mode": {
    "name": "ipython",
    "version": 3
   },
   "file_extension": ".py",
   "mimetype": "text/x-python",
   "name": "python",
   "nbconvert_exporter": "python",
   "pygments_lexer": "ipython3",
   "version": "3.7.9"
  }
 },
 "nbformat": 4,
 "nbformat_minor": 1
}